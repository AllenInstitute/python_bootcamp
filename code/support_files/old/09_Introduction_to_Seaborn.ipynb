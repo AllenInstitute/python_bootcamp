{
 "cells": [
  {
   "cell_type": "markdown",
   "metadata": {},
   "source": [
    "<img src=\"support_files/images/cropped-SummerWorkshop_Header.png\">  "
   ]
  },
  {
   "cell_type": "markdown",
   "metadata": {},
   "source": [
    "<div style=\"padding: 5px; padding-left: 10px;\">\n",
    "    \n",
    "<center><h2>Table of Contents & Jumplinks</h2></center>\n",
    "\n",
    "<h3>Effective Visualizations & Accessibility</h3>\n",
    "\n",
    "* <a href='#vizfoundation'>proper foundation</a>\n",
    " \n",
    "<h3>Coding Package Introductions</h3>\n",
    "\n",
    "* <a href='#seaborn'>Seaborn background</a>\n",
    "* <a href='#imports'>package imports</a>\n",
    "* <a href='#load_dataset'>load sample dataset</a>\n",
    "* <a href='#matplotlib_basics'>matplotlib coding basics</a>    \n",
    "    \n",
    "<h3>Exploratory and Basic Data Visualizations</h3>\n",
    "\n",
    "* <a href='#bar'>Bar plots</a>\n",
    "* <a href='#box'>Box plots</a>\n",
    "* <a href='#violin'>Violin plots</a>\n",
    "* <a href='#scatter'>Scatter plots</a>\n",
    "* <a href='#distribution'>Distribution plots</a>\n",
    "* <a href='#timeseries'>Line/timeseries plots</a>  \n",
    "* <a href='#multiplots'>multiple plots per figure</a>\n",
    "* <a href='#heat'>Heatmaps & Correlation Heatmaps</a>"
   ]
  },
  {
   "cell_type": "markdown",
   "metadata": {},
   "source": [
    "<a id='foundation'></a>"
   ]
  },
  {
   "cell_type": "markdown",
   "metadata": {},
   "source": [
    "<div style=\"border-left: 3px solid #000; padding: 1px; padding-left: 10px; background: #F0FAFF; \">\n",
    "<center><h1>Foundations of Data Visualizations</h1></center>\n",
    "    \n",
    "<img src=\"support_files/images/data_viz/Gia_Gunn_This_is_a_place_for_legends_okay.gif\" width='600'/>     \n",
    "    \n",
    "The following is true for any data visualization, and is especially important when creating accessibile visualizations. A concise and coherent concept ensures users of all abilities can engage with your visualization. Put the numbers aside for a moment and ask yourself these questions:\n",
    "\n",
    "**What story does the data tell?** \n",
    "* Make the relationships or features you want to highlight stand out!\n",
    "* provide context but eliminate clutter or irrelevant data\n",
    "* for complex stories: break it in to smaller simpler chunks\n",
    "\n",
    "**How should the reader benefit from the visualization?** Consider how your graph will help the user understand insights from the data. Like in the previous example, layer in context to pull those learnings to the surface.\n",
    "\n",
    "**Can you understand it in 5 seconds?** If the visual adds more complexity than your written word would otherwise, think about whether you need it in the first place.\n",
    "\n",
    "\n",
    "<h3>Visualization Evalutation Checklist</h3>\n",
    "\n",
    "**Legibility**\n",
    "\n",
    "* Is it immediately understandable?  If not, is it **understandable after a short period of study**?\n",
    "* Does it **provide insight or understanding** better than some alternative visualization would?  Or does it require excessive cognitive effort?\n",
    "* Does it provide insight or understanding that was not obtainable with the original representation (text, table, etc)?\n",
    "* Is the design visually appealing/aesthetically pleasing?\n",
    "\n",
    "**Context**\n",
    "* Does the visualization reveal trends, patterns, gaps, and/or outliers? Can the viewer **make effective comparisons**?\n",
    "* Does the visualization successfully **highlight important information, while providing context for that information**?\n",
    "* What kind of visualization might have been better?\n",
    "* Is it memorable?\n",
    "\n",
    "\n",
    "**Integrity**\n",
    "* Does it use visual components properly? That is, does it **properly represent the data using lines, color, position**, etc? \n",
    "* Does it **use labels and legends** appropriately?\n",
    "* Does it transform nominal, ordinal, and quantitative information properly?\n",
    "* Does it distort the information?  If it transforms it in some way, is this misleading or helpfully simplifying?\n",
    "* Does it omit important information?    \n",
    "\n"
   ]
  },
  {
   "cell_type": "markdown",
   "metadata": {},
   "source": [
    "<a id='seaborn'></a>"
   ]
  },
  {
   "cell_type": "markdown",
   "metadata": {},
   "source": [
    "<div style=\"border-left: 3px solid #000; padding: 1px; padding-left: 10px; background: #F0FAFF; \">\n",
    "<center><h1>Introduction to Seaborn</h1></center>\n",
    "\n",
    "    \n",
    "<img src=\"support_files/images/data_viz/seaborn_logo.png\" width='600'/> \n",
    "<p>\n",
    "<b>Seaborn</b> is a library for making statistical graphics in Python. It builds on top of <code>matplotlib</code> and integrates closely with <code>pandas</code> data structures.\n",
    "<p>    \n",
    "Seaborn helps you explore and understand your data. Its plotting functions operate on dataframes and arrays containing whole datasets and internally perform the necessary semantic mapping and statistical aggregation to produce informative plots. Its dataset-oriented, declarative API lets you focus on what the different elements of your plots mean, rather than on the details of how to draw them.\n",
    "<p>\n",
    "<h3>Pros:</h3>\n",
    "<ul>\n",
    "<li>Simple declarative API is easy to get started with\n",
    "<li>quick and easy to update plots\n",
    "<li>handles data aggregation by default\n",
    "<li><a href=\" https://seaborn.pydata.org/api.html\">Well documented API</a> \n",
    "<li>Works with Pandas dataframes and tabular data, lists & arrays.\n",
    "<li>Comes with many prepackaged Python distros (anaconda, WinPython, etc.).\n",
    "<li>Easily saves plots to image (.png, .bmp, etc.) and vector (.svg, .pdf, etc.) formats.\n",
    "<li>Has an excellent set of examples (with code) within the API and  <a href=\"https://seaborn.pydata.org/examples/index.html\">seaborn gallery</a>\n",
    "</ul>\n",
    "\n",
    "<p>\n",
    "<h3>Cons:</h3>\n",
    "<ul>\n",
    "<li>Opinionated \n",
    "<li>Not as flexible as matplotlib\n",
    "<li> \"hidden\" statistical analysis: some statistics are done behind the scenes so you have less control or visibility into what is being done.\n",
    "</ul>\n",
    "</div>"
   ]
  },
  {
   "cell_type": "markdown",
   "metadata": {},
   "source": [
    "<a id='imports'></a>"
   ]
  },
  {
   "cell_type": "code",
   "execution_count": null,
   "metadata": {},
   "outputs": [],
   "source": [
    "import os\n",
    "import numpy as np\n",
    "import pandas as pd\n",
    "\n",
    "\n",
    "# main plotting packages\n",
    "import seaborn as sns\n",
    "import matplotlib.pyplot as plt"
   ]
  },
  {
   "cell_type": "markdown",
   "metadata": {},
   "source": [
    "<a id='load_dataset'></a>"
   ]
  },
  {
   "cell_type": "code",
   "execution_count": null,
   "metadata": {},
   "outputs": [],
   "source": [
    "# load the data\n",
    "csv_path = os.path.join('support_files', 'datasets', 'cars_dataset.csv')\n",
    "cars = pd.read_csv(csv_path)\n",
    "\n",
    "# view the data\n",
    "cars"
   ]
  },
  {
   "cell_type": "markdown",
   "metadata": {},
   "source": [
    "<a id='matplotlib_basics'></a>"
   ]
  },
  {
   "cell_type": "markdown",
   "metadata": {},
   "source": [
    "<div style=\"padding: 5px; padding-left: 10px; background: #e6f2ff\">\n",
    "<h3> Matplotlib Code Basics </h3>\n",
    "    \n",
    "* create a figure: <code>fig, ax = plt.subplots()</code>\n",
    "    * Adjust figure size: <code>fig, ax = plt.subplots(figsize = (horizontal, vertical)</code>\n",
    "    * Multiple plots per figure: <code>fig, ax = plt.subplots(n_rows, n_columns)</code>\n",
    "        * Note!: we will cover this more in-depth later!\n",
    "\n",
    "* add title: <code>ax.set_title('plot title')</code>\n",
    "* set x label: <code>ax.set_xlabel('x label')</code>\n",
    "* set y label: <code>ax.set_ylabel('y label')</code>\n",
    "    \n",
    "NOTE: Because Seaborn is essentially a wrapper for matplotlib there are many matplotlib conventions and functions that we will use on almost all of our plots regardless of whether they are seaborn or matplotlib plots"
   ]
  },
  {
   "cell_type": "markdown",
   "metadata": {},
   "source": [
    "<a id='bar'></a>"
   ]
  },
  {
   "cell_type": "markdown",
   "metadata": {},
   "source": [
    "<div style=\"padding: 5px; padding-left: 10px; background:#e6e6e6\">\n",
    "\n",
    "<h3>Bar Plots</h3>\n",
    "\n",
    "Seaborn has two options for barplots:\n",
    "\n",
    "**[.countplot](https://seaborn.pydata.org/generated/seaborn.countplot.html):**\n",
    "plots the frequency of categorical variables\n",
    "\n",
    "* Basic countplot: <code>sns.countplot(data = df, x = 'column', )</code>\n",
    "\n",
    "\n",
    "**[.barplot](https://seaborn.pydata.org/generated/seaborn.barplot.html#seaborn.barplot):**\n",
    "Represents an estimate of central tendency for a numeric variable with the height of each rectangle and provides some indication of the uncertainty around that estimate using error bars. Seaborn handles aggregation automatically, and uses mean as the default aggregator.\n",
    "* the <code>estimator</code> argument can be changed to different measurements of central tendancy such as median\n",
    "* Basic barplot: <code>sns.barplot(data = df, x = 'column', y= 'column\")</code>\n",
    "    \n",
    "**Helpful Parameters:**\n",
    "* <code>x, y</code>: Axis to plot on, x is a vertical plot, y is a horizontal plot\n",
    "* <code>order</code>: Order to plot the categorical levels in, otherwise the levels are inferred from the data objects.\n",
    "* <code>color</code>: Color for all of the elements, or seed for a gradient palette."
   ]
  },
  {
   "cell_type": "code",
   "execution_count": null,
   "metadata": {},
   "outputs": [],
   "source": [
    "sns.countplot(x='Origin', data = cars)"
   ]
  },
  {
   "cell_type": "code",
   "execution_count": null,
   "metadata": {},
   "outputs": [],
   "source": [
    "sns.barplot(x='Origin', y='MPG', data = cars)"
   ]
  },
  {
   "cell_type": "markdown",
   "metadata": {},
   "source": [
    "<div style=\"background: #DFF0D8; border-radius: 3px; padding: 10px;\">\n",
    "\n",
    "**STUDENT EXERCISES:** \n",
    "Lets combine some pandas filtering and some plot aesthetics to create a barplot that looks like the \"best\" example. \n",
    "    \n",
    "    \n",
    "* filter the cars dataframe to just Japanese origin\n",
    "* set up the axis so it plots horizontally\n",
    "* make a countplot of \"Make\"\n",
    "* Order the data by Make counts (hint, you can use <code>.value_counts().index</code>)"
   ]
  },
  {
   "cell_type": "code",
   "execution_count": null,
   "metadata": {},
   "outputs": [],
   "source": [
    "# SOLUTION\n",
    "\n",
    "japan_cars = cars.loc[cars[\"Origin\"]==\"Japan\"]\n",
    "\n",
    "sns.countplot(data = japan_cars,\n",
    "              y='Make', \n",
    "              color='b',\n",
    "              order = japan_cars['Make'].value_counts().index,\n",
    "              )"
   ]
  },
  {
   "cell_type": "markdown",
   "metadata": {},
   "source": [
    "<a id='box'></a>"
   ]
  },
  {
   "cell_type": "markdown",
   "metadata": {},
   "source": [
    "<div style=\"padding: 5px; padding-left: 10px; background:#e6e6e6\">\n",
    "\n",
    "<h3>Box Plots</h3>\n",
    "\n",
    "[.boxplot](https://seaborn.pydata.org/generated/seaborn.boxplot.html) will create a basic boxplot that will automatically use to column name as the label.\n",
    "\n",
    "**Basic code:**\n",
    "* single variable: <code>sns.boxplot(data = df, x = \"column\")</code>\n",
    "* 2 variables:\n",
    "\n",
    "```\n",
    "sns.boxplot(data = df,\n",
    "            x = \"values_column\",\n",
    "            y = \"category_column\")\n",
    "```\n",
    "**Helpful Parameters:**\n",
    "* <code>x, y</code>: Axis to plot on, x is a horizonta plot, y is a vertical plot\n",
    "* <code>hue</code>: Further grouping/sub categories to plot\n",
    "* <code>order</code>: Order to plot the categorical levels in, otherwise the levels are inferred from the data objects."
   ]
  },
  {
   "cell_type": "code",
   "execution_count": null,
   "metadata": {},
   "outputs": [],
   "source": [
    "# Lets recreate the basic boxplot of horsepower with seaborn\n",
    "fig, ax = plt.subplots()\n",
    "ax = sns.boxplot(data = cars,\n",
    "                 x = \"Horsepower\",\n",
    "                 )\n",
    "ax.set_title(\"All Cars\")"
   ]
  },
  {
   "cell_type": "code",
   "execution_count": null,
   "metadata": {},
   "outputs": [],
   "source": [
    "# now lets add Origin as a categorical variable\n",
    "fig, ax = plt.subplots()\n",
    "ax = sns.boxplot(data = cars,\n",
    "                 x = \"Horsepower\",\n",
    "                 y = \"Origin\",\n",
    "                 )\n"
   ]
  },
  {
   "cell_type": "code",
   "execution_count": null,
   "metadata": {},
   "outputs": [],
   "source": [
    "# we can add even more by dilenating by number of cylinders\n",
    "fig, ax = plt.subplots()\n",
    "ax = sns.boxplot(data = cars,\n",
    "                 x = \"Horsepower\",\n",
    "                 y = \"Origin\",\n",
    "                 hue = \"Cylinders\",\n",
    "                 )"
   ]
  },
  {
   "cell_type": "markdown",
   "metadata": {},
   "source": [
    "<div style=\"background: #DFF0D8; border-radius: 3px; padding: 10px;\">\n",
    "\n",
    "**STUDENT EXERCISES:** \n",
    "Build on the momentum from the last exercise to recreate the \"best\" plot example. \n",
    "    \n",
    "    \n",
    "* Use the filtered dataframe from the last exercise (Filtered to Japan as the Origin)\n",
    "* set up the axis so it plots horizontally\n",
    "* Boxplots of \"MPG\" by \"Make\"\n",
    "* Order the data median MPG per make\n",
    "    * Hint: Use the same methodolgy to aggregate & sort values from the Pandas tutorial, using <code>.groupby()</code>, <code>.agg()</code> and <code>.sort_values()</code>, then use the <code>.index</code> from that sorted df as the order in the boxplot\n",
    "    "
   ]
  },
  {
   "cell_type": "code",
   "execution_count": null,
   "metadata": {},
   "outputs": [],
   "source": [
    "# SOLUTION:\n",
    "\n",
    "# sorting the values\n",
    "make_agg = japan_cars[['Make','MPG']].groupby('Make').agg(['median'])\n",
    "make_agg.sort_values(by=[('MPG', 'median')], ascending = False, inplace=True)\n",
    "\n",
    "# making the plot\n",
    "fig, ax = plt.subplots()\n",
    "ax = sns.boxplot(data = japan_cars,\n",
    "                 x = \"MPG\",\n",
    "                 y = \"Make\",\n",
    "                 order = make_agg.index,\n",
    "                 )\n"
   ]
  },
  {
   "cell_type": "markdown",
   "metadata": {},
   "source": [
    "<a id='violin'></a>"
   ]
  },
  {
   "cell_type": "markdown",
   "metadata": {},
   "source": [
    "<div style=\"padding: 5px; padding-left: 10px; background:#e6e6e6\">\n",
    "\n",
    "<h3>Violin Plots</h3>\n",
    "\n",
    "**Description:** **<code>[.violinplot()](https://seaborn.pydata.org/generated/seaborn.violinplot.html#seaborn.violinplot)</code>** will create a basic violin that will automatically use to column name as the label. It uses all the same parameters as boxplot. \n",
    "\n",
    "**Basic code**\n",
    "* single variable: <code>sns.violinplot(data = df, x = \"column\")</code>\n",
    "* 2 variables:\n",
    " ```\n",
    "sns.violinplot(data = df,\n",
    "                 x = \"values_column\",\n",
    "                 y = \"category_column\")\n",
    "```\n",
    "\n",
    "**Helpful Parameters:**\n",
    "* <code>x, y</code>: Axis to plot on\n",
    "    * categorical column/variable on x is a vertical plot\n",
    "    * categorical column/variable on y is a horizontal plot\n",
    "* <code>scale</code> (optional):  ['area', 'count', 'width']. The method used to scale the width of each violin.\n",
    "    * area: each violin will have the same area\n",
    "    * count: the width of the violins will be scaled by the number of observations in that bin. \n",
    "    * width: each violin will have the same width.\n",
    "* <code>bw</code> (optional): ['scott', 'silverman', float] Either the name of a reference rule or the scale factor to use when computing the kernel bandwidth. The actual kernel size will be determined by multiplying the scale factor by the standard deviation of the data within each bin.\n",
    "* <code>hue</code> (optional): Further grouping/sub categories to plot\n",
    "* <code>order</code> (optional): Order to plot the categorical levels in, otherwise the levels are inferred from the data objects."
   ]
  },
  {
   "cell_type": "code",
   "execution_count": null,
   "metadata": {},
   "outputs": [],
   "source": [
    "### Create a basic violin plot showing the distribution of miles per gallon by origin\n",
    "### scale it by the count\n",
    "\n",
    "sns.violinplot(data = cars,\n",
    "               x = 'Origin', \n",
    "               y = 'MPG',\n",
    "               scale = 'count',\n",
    "               )"
   ]
  },
  {
   "cell_type": "markdown",
   "metadata": {},
   "source": [
    "<a id='scatter'></a>"
   ]
  },
  {
   "cell_type": "markdown",
   "metadata": {},
   "source": [
    "<div style=\"padding: 5px; padding-left: 10px; background:#e6e6e6\">\n",
    "\n",
    "<h3>Scatter Plots</h3>\n",
    "\n",
    "**Description:** **<code>[.scatter()]( https://seaborn.pydata.org/generated/seaborn.scatterplot.html#seaborn.scatterplot)</code>** Draw a scatter plot with possibility of several semantic groupings.\n",
    "\n",
    "**Basic code**\n",
    "```\n",
    " sns.scatterplot(data = df,\n",
    "                  x = numeric column,\n",
    "                  y = numeric column)\n",
    "```\n",
    "\n",
    "**Helpful Parameters:**\n",
    "* <code>hue</code>: numeric, ordinal or categorical variable/column that will plotted as different colors\n",
    "* <code>size</code>: numeric, ordinal or categorical variable/column that will produce points with different sizes. \n",
    "* <code>style</code>: categorical variable/column that will produce points with different markers."
   ]
  },
  {
   "cell_type": "code",
   "execution_count": null,
   "metadata": {},
   "outputs": [],
   "source": [
    "# Scatter plots work well with row level data\n",
    "sns.scatterplot(data = cars,\n",
    "                x = 'Horsepower', \n",
    "                y = 'Weight',\n",
    "                hue = 'Origin'\n",
    "               )"
   ]
  },
  {
   "cell_type": "markdown",
   "metadata": {},
   "source": [
    "<div style=\"background: #DFF0D8; border-radius: 3px; padding: 10px;\">\n",
    "\n",
    "**STUDENT EXERCISES:** \n",
    " \n",
    "Recreate the following plot:  \n",
    "<img src=\"support_files/images/data_viz/viz_student_exercise_mulivariate.png\" width=\"500\"/> \n",
    "    \n",
    "Hint 2: take a look at the [seaborn scatterplot documentation and examples](https://seaborn.pydata.org/generated/seaborn.scatterplot.html#seaborn.scatterplot)\n",
    "    \n",
    "**Answer the following questions:** \n",
    "* How many variables are encoded?\n",
    "* Is the encoding effective?\n",
    "* Are there ways that it could be improved?"
   ]
  },
  {
   "cell_type": "code",
   "execution_count": null,
   "metadata": {},
   "outputs": [],
   "source": [
    "# Solution\n",
    "\n",
    "fig, ax = plt.subplots(figsize=(8,6))\n",
    "\n",
    "ax = sns.scatterplot(data=cars,\n",
    "                     x=\"Horsepower\", y=\"MPG\", \n",
    "                     hue=\"Origin\", size=\"Weight\",\n",
    "                     alpha=.5, palette=\"muted\",\n",
    "                     sizes=(40, 400))"
   ]
  },
  {
   "cell_type": "markdown",
   "metadata": {},
   "source": [
    "<a id='distribution'></a>"
   ]
  },
  {
   "cell_type": "markdown",
   "metadata": {},
   "source": [
    "<div style=\"padding: 5px; padding-left: 10px; background: #e6f2ff\">\n",
    "<h2> Distribution Plots</h2>\n",
    "\n",
    "    \n",
    "**Histograms**\n",
    "\n",
    "A histogram is a classic visualization tool that represents the distribution. There are two basic types of histograms: frequency and density.  \n",
    "    \n",
    "Frequency histograms display one or more variables by counting the number of observations that fall within disrete bins.\n",
    "    \n",
    "Density histograms give rough sense of the density of the underlying distribution of the data, and often for density estimation: estimating the probability density function of the underlying variable. The total area of a histogram used for probability density is always normalized to 1.\n",
    "    \n",
    "<img src=\"support_files/images/data_viz/viz_histogram_generic.png\" width=\"500\"/> \n",
    "\n",
    "    \n",
    "**Kernel Density Estimates**\n",
    "\n",
    "A [kernel density estimate](https://en.wikipedia.org/wiki/Kernel_density_estimation) (KDE) plot is a method for visualizing the distribution of observations in a dataset, analagous to a histogram. KDE represents the data using a continuous probability density curve in one or more dimensions.\n",
    " \n",
    "Relative to a histogram, KDE can produce a plot that is less cluttered and more interpretable, especially when drawing multiple distributions. But it has the potential to introduce distortions if the underlying distribution is bounded or not smooth. Like a histogram, the quality of the representation also depends on the selection of good smoothing parameters.\n",
    " \n",
    "<img src=\"support_files/images/data_viz/viz_hist_vs_KDE.png\" width=\"500\"/> \n",
    "    "
   ]
  },
  {
   "cell_type": "markdown",
   "metadata": {},
   "source": [
    "<div style=\"padding: 5px; padding-left: 10px; background:#e6e6e6\">\n",
    "\n",
    "<h3>Histograms: Seaborn</h3>\n",
    "\n",
    "Seaborn has several ways of creating histogram-like visualizations.\n",
    "\n",
    "**[.histplot]( https://seaborn.pydata.org/generated/seaborn.histplot.html#seaborn.histplot):** the most straightforward histogram plot function\n",
    "* basic: <code>sns.histplot(data=df, x=\"column\")</code>\n",
    "* density: <code>sns.histplot(data=df, x=\"column\", stat=\"density\")</code> \n",
    "* basic with kde: sns.histplot(data=df, x=\"column\", kde=True)\n",
    "    \n",
    "**[.kdeplot](https://seaborn.pydata.org/generated/seaborn.kdeplot.html#seaborn.kdeplot):** specializes in kernel density estimate plots\n",
    "* basic: <code>sns.kdeplot(data=df, x=\"column\")</code>\n",
    "* multiple categories: <code>sns.kdeplot(data=df, x=\"column\", hue=\"size\")</code>\n",
    "    * <code>bw_method</code> (optional): [string, scalar, or callable]  Method for determining the smoothing bandwidth to use; passed to scipy.stats.gaussian_kde.\n",
    "    * <code>bw_adjust</code>(optional): number; Factor that multiplicatively scales the value chosen using bw_method. Increasing will make the curve smoother. See seaborn documentation.\n",
    "\n",
    "**[.displot](https://seaborn.pydata.org/generated/seaborn.displot.html#seaborn.displot):** the most flexible of the distribution plot functions\n",
    "* basic: <code>sns.displot(data=df, x=\"column\", kind=\"hist\")</code>\n",
    "* multiple categories: \n",
    "    <code>sns.displot(data=df, x=\"column\", hue = \"category_column\", kind=\"hist\")</code>\n",
    "* the <code>kind</code> argument can be set to \"hist\", \"kde\" or \"ecdf\""
   ]
  },
  {
   "cell_type": "code",
   "execution_count": null,
   "metadata": {},
   "outputs": [],
   "source": [
    "# lets create a basic histogram of car weights\n",
    "sns.histplot(data = cars, \n",
    "             x = \"Weight\")"
   ]
  },
  {
   "cell_type": "code",
   "execution_count": null,
   "metadata": {},
   "outputs": [],
   "source": [
    "# now lets create a kde plot of weights categorized by origin\n",
    "sns.displot(data = cars, \n",
    "             x = \"Weight\", \n",
    "             hue = \"Origin\", \n",
    "             kind = \"kde\")"
   ]
  },
  {
   "cell_type": "markdown",
   "metadata": {},
   "source": [
    "<a id='timeseries'></a>"
   ]
  },
  {
   "cell_type": "markdown",
   "metadata": {},
   "source": [
    "<div style=\"padding: 5px; padding-left: 10px; background:#e6e6e6\">\n",
    "\n",
    "<h3>Lineplots</h3>\n",
    "\n",
    "**Description:**[.lineplot]( https://seaborn.pydata.org/generated/seaborn.lineplot.html#seaborn.lineplot) offers a line plot with possibility of several semantic groupings. It will automatically handle aggregation, and has built in functionality for drawing multiple lines based on category. \n",
    "\n",
    "**Basic code**\n",
    "* single variable:\n",
    "```\n",
    "sns.lineplot(data = df,\n",
    "               x =  numeric column,\n",
    "               y = numeric column)\n",
    "```\n",
    "\n",
    "**Helpful Parameters:**\n",
    "* <code>hue</code>: Grouping variable that will produce lines with different colors\n",
    "* <code>size</code>: Grouping variable that will produce lines with different widths. \n",
    "* <code>style</code>: Grouping variable that will produce lines with different dashes and/or markers.\n",
    "* <code>legend</code>:How to draw the legend. \n",
    "    * “auto”: choose between brief or full representation based on number of levels.\n",
    "    * “brief”: numeric hue and size variables will be represented with a sample of evenly spaced values.\n",
    "    * “full\": every group will get an entry in the legend.\n",
    "    * False: no legend data is added and no legend is drawn.\n",
    "* <code>ci</code>: [int or “sd” or None] Size of the confidence interval to draw when aggregating with an estimator. \n",
    "    * “sd”: draw the standard deviation of the data. \n",
    "    * None: skips bootstrapping.\n",
    "    \n",
    "**Note:**\n",
    "* When there are multiple y-values for each x-value, seaborn will aggregate and compute the mean y-value, along with a 95% confidence interval around the mean."
   ]
  },
  {
   "cell_type": "code",
   "execution_count": null,
   "metadata": {
    "scrolled": false
   },
   "outputs": [],
   "source": [
    "# Lets make the same plot but with seaborn \n",
    "fig, ax = plt.subplots()\n",
    "ax = sns.lineplot(data = cars,\n",
    "             x=\"Year\", \n",
    "             y=\"MPG\",\n",
    "             hue = \"Origin\",\n",
    "            )"
   ]
  },
  {
   "cell_type": "markdown",
   "metadata": {},
   "source": [
    "<div style=\"padding: 5px; padding-left: 10px; background:#e6e6e6\">\n",
    "\n",
    "<h3>Pair Grid</h3>\n",
    "\n",
    "**Description:**[.pairgrid](https://seaborn.pydata.org/generated/seaborn.PairGrid.html) provides a grid for plotting pairwise relationships in a dataset\n",
    "    \n",
    "In it's most basic form- the pair grid will simply create a blank grid of subplots with each row and one column corresponding to a numeric variable in the dataset. At that point you must map a type of plot onto the grid, for example a scatter plot. This will fill all the subplots with scatter plots of each pairwise relationship. You would still have access to all the scatterplot arguments like :<code>hue</code> and <code>size</code>.  However, there are also options to divide the pairplot into sections and plot things like histograms and other density estimators. \n",
    "    \n",
    "<img src=\"support_files/images/data_viz/pairgrid.png\" width=\"500\"/>     \n",
    "\n",
    "**Basic code**\n",
    "\n",
    "```\n",
    "g = sns.PairGrid(df)\n",
    "g.map(sns.scatterplot)\n",
    "```\n",
    "    \n",
    "** Mapping Options**\n",
    "<img src=\"support_files/images/data_viz/pairgrid_sections.png\" width=\"500\"/>    \n",
    "* <code>.map(seaborn plot type call)</code>:\n",
    "* <code>.map_diag(seaborn plot type call)</code>: will plot a specific plot type on the diagonal\n",
    "* <code>.map_offdiag(seaborn plot type call)</code>: will plot a specific plot type on the non-diagonal\n",
    "* <code>.map_lower(seaborn plot type call)</code>: will plot a specific plot type below the diagonal\n",
    "* <code>.map_upper(seaborn plot type call)</code>: will plot a specific plot type above the diagonal\n",
    "\n",
    "\n",
    "**Helpful Parameters:**\n",
    "* <code>hue</code>: Grouping variable that will produce lines with different colors\n",
    "* <code>size</code>: Grouping variable that will produce lines with different widths. \n",
    "* <code>style</code>: Grouping variable that will produce lines with different dashes and/or markers.\n",
    "* <code>legend</code>:How to draw the legend. \n",
    "\n",
    "  "
   ]
  },
  {
   "cell_type": "code",
   "execution_count": null,
   "metadata": {},
   "outputs": [],
   "source": [
    "# lets make a pair grid with histograms in the diagonal and scatter plots in the off diagonal. Lets also color it by cylinders\n",
    "\n",
    "g = sns.PairGrid(data = cars, \n",
    "                 hue=\"Cylinders\")\n",
    "g.map_diag(sns.histplot)\n",
    "g.map_offdiag(sns.scatterplot)\n",
    "g.add_legend(title=\"\", adjust_subtitles=True)"
   ]
  },
  {
   "cell_type": "markdown",
   "metadata": {},
   "source": [
    "<a id='basic_heatmaps'></a>"
   ]
  },
  {
   "cell_type": "markdown",
   "metadata": {},
   "source": [
    "<div style=\"padding: 5px; padding-left: 10px; background: #e6f2ff\">\n",
    "<h2>Heatmaps & Correlation heatmaps</h2>\n",
    "\n",
    "**Basic heatmap**\n",
    "A heatmap is a type of matrix plot and graphical representation of data that uses a system of color-coding to represent different values. \n",
    "    \n",
    "<img src=\"support_files/images/data_viz/viz_heatmap.png\" width=\"300\"/> \n",
    "\n",
    "    \n",
    "**Correlation Heatmap**\n",
    "A correlation heatmap specifically represents a correlation matrix, displaying the correlation between different variables. The value of correlation can take any value from -1 to 1. Correlation between two random variables or bivariate data does not necessarily imply a causal relationship. \n",
    "<img src=\"support_files/images/data_viz/viz_heatmap_correlation.png\" width=\"500\"/>    \n",
    "To create the correlation matrix for the visualizations, we will be using the pandas function\n",
    " [.corr](https://pandas.pydata.org/docs/reference/api/pandas.DataFrame.corr.html)   \n",
    "      \n",
    "\n",
    "**Jumplinks:**\n",
    "* <a href='#basic_heatmaps'>heatmaps with matplotlib and seaborn</a>\n",
    "* <a href='#correlation_matrix'>correlation dataframe</a>    \n",
    "* <a href='#correlation_heatmap'>correlation heatmaps with matplotlib and seaborn</a> "
   ]
  },
  {
   "cell_type": "markdown",
   "metadata": {},
   "source": [
    "<div style=\"padding: 5px; padding-left: 10px; background:#e6e6e6\">\n",
    "<h3>Basic Heatmaps</h3>\n",
    "\n",
    "**With Matplotlib:**\n",
    "\n",
    "If you have a table of values, making a very basic heatmap is incredibly easy! \n",
    "* <code>plt.imshow(df)</code><img src=\"support_files/images/data_viz/viz_heatmap_matplotlib.png\" width=\"200\"/>\n",
    "\n",
    "\n",
    "Perhaps creating plots like this is fine when you just want a very quick by eye assessment of the data. However, you might notice from the image above that it is not very interpretable and is missing some really important information such as labels, annotated values, and color scale bar etc.\n",
    "The matplotlib code example provided in the cells below goes over how to add all the bells and whistles\n",
    "   \n",
    "    \n",
    "**With Seaborn:**\n",
    "\n",
    "Heatmaps with seaborn are much more straightforward than with matplotlib. and uses the [.heatmap()](https://seaborn.pydata.org/generated/seaborn.heatmap.html#seaborn.heatmap) function. \n",
    "\n",
    "There's several optional parameters that can be used to easily adjust the colormap and color bar and other aesthetics. Please see the documentation for more information. \n",
    "    \n",
    "<code>sns.heatmap(data = df)</code>\n",
    "\n",
    "NOTE: We will create a dataframe with synthetic data to work with for the basic heatmaps. This will use the techniques covered in the intro to pandas jupyter notebook"
   ]
  },
  {
   "cell_type": "code",
   "execution_count": null,
   "metadata": {},
   "outputs": [],
   "source": [
    "# first we will create a dataframe with fake data to use for our heatmap\n",
    "uniform_data = np.random.rand(6, 6)\n",
    "heatmap_df = pd.DataFrame(uniform_data, columns=['col_1', 'col_2', 'col_3',\n",
    "                                                 'col_4', 'col_5', 'col_6'])"
   ]
  },
  {
   "cell_type": "code",
   "execution_count": null,
   "metadata": {},
   "outputs": [],
   "source": [
    "# basic heatmap with SEABORN\n",
    "\n",
    "fig, ax = plt.subplots()\n",
    "ax = sns.heatmap(data = heatmap_df,\n",
    "                 annot=True,          # annotate with correlation values\n",
    "                 linewidths=.1,       # matrix line widths\n",
    "                 linecolor ='grey',   # matrix line color\n",
    "                 square=True)\n",
    "\n",
    "ax.set_title(\"Basic Heatmap with Seaborn\")\n",
    "ax.set_xlabel('Columns')\n",
    "ax.set_ylabel('Rows')"
   ]
  },
  {
   "cell_type": "markdown",
   "metadata": {},
   "source": [
    "<div style=\"padding: 5px; padding-left: 10px; background:#e6e6e6\">\n",
    "\n",
    "**Correlation matrix**\n",
    "\n",
    "To create the correlation matrix for the visualizations, we will be using the pandas function\n",
    "    **<code>[.corr()](https://pandas.pydata.org/docs/reference/api/pandas.DataFrame.corr.html)</code>**  \n",
    "\n",
    "This function computes pairwise correlation of columns, excluding NA/null values.\n",
    "\n",
    "<code>correlation_df = df.corr()</code>\n",
    "   \n",
    "Optional Parameters:\n",
    "* <code>method</code> is the type of correlation to run. Options are:\n",
    "    * 'pearson': default,  standard correlation coefficient\n",
    "    * 'kendall': Kendall Tau correlation coefficient\n",
    "    * 'spearman': Spearman rank correlation\n",
    "    "
   ]
  },
  {
   "cell_type": "markdown",
   "metadata": {},
   "source": [
    "<a id='correlation_matrix'></a>"
   ]
  },
  {
   "cell_type": "code",
   "execution_count": null,
   "metadata": {},
   "outputs": [],
   "source": [
    "#Lets make a very basic correlation matrix/dataframe\n",
    "correlation_df = cars.corr()\n",
    "correlation_df"
   ]
  },
  {
   "cell_type": "markdown",
   "metadata": {},
   "source": [
    "<a id='correlation_heatmap'></a>"
   ]
  },
  {
   "cell_type": "markdown",
   "metadata": {},
   "source": [
    "<div style=\"padding: 5px; padding-left: 10px; background:#e6e6e6\">\n",
    "\n",
    "**Correlation heatmaps**\n",
    "\n",
    "When creating correlation plots, incorporating just a few elements will make them much more interpretable: \n",
    "* colorbar should span -1 to 1\n",
    "* Diverging colormap:  with a neutral color in the middle to represent 0, some options are:\n",
    " <img src=\"support_files/images/data_viz/viz_diverging_colormaps.png\" width=\"200\"/> \n",
    "    \n",
    "\n",
    "We only need to made a few tweaks to the [.heatmap()](https://seaborn.pydata.org/generated/seaborn.heatmap.html#seaborn.heatmap) code we used above to make a correlation based heatmap"
   ]
  },
  {
   "cell_type": "code",
   "execution_count": null,
   "metadata": {},
   "outputs": [],
   "source": [
    "# Correlation heatmap with Seaborn:\n",
    "plt.figure(figsize=(6,6))\n",
    "\n",
    "fig, ax = plt.subplots()\n",
    "ax = sns.heatmap(data = correlation_df,\n",
    "                 cmap = 'BrBG',          # brown-teal diverging color map\n",
    "                 vmin = -1, vmax = 1,    # set the colorbar range (-1 - 1 for correlation)\n",
    "                 center = 0,             # set the center of the color bar\n",
    "                 annot = True,           # annotate with correlation values\n",
    "                 linewidths =.1,         # matrix line widths\n",
    "                 linecolor ='white',     # matrix line color\n",
    "                 square = True)\n",
    "ax.set_title(\"Correlation Heatmap with Seaborn\")"
   ]
  },
  {
   "cell_type": "markdown",
   "metadata": {},
   "source": [
    "<a id='multiplots'></a>"
   ]
  },
  {
   "cell_type": "markdown",
   "metadata": {},
   "source": [
    "<div style=\"padding: 5px; padding-left: 10px; background:#e6e6e6\">\n",
    "\n",
    "<h2> Multi Plot Figures</h2>\n",
    " \n",
    "**Figures with Subplots**\n",
    "\n",
    "A given figure can have more than one axis. The subplot command, which we used above, generates a single axis by default. But we can specify the number of axes that we want..\n",
    "    \n",
    "<img src=\"support_files/images/data_viz/viz_subplots.png\" width=\"500\"/> \n",
    "\n",
    "    \n",
    "**Complex Figures with Gridspec**\n",
    "\n",
    "[Gridspec](http://matplotlib.org/users/gridspec.html) is useful when you have uneven subplots. It can get tricky for more complex plots, so first try to use <code>ax.subplots()</code> (like in the previous examples) if possible.  \n",
    " \n",
    "<img src=\"support_files/images/data_viz/viz_gridspec.png\" width=\"500\"/> \n"
   ]
  },
  {
   "cell_type": "markdown",
   "metadata": {},
   "source": [
    "<a id='subplots_matplotlib'></a>"
   ]
  },
  {
   "cell_type": "code",
   "execution_count": null,
   "metadata": {},
   "outputs": [],
   "source": [
    "# Because Seaborn is built on Matplotlib we can also put multiple\n",
    "# seaborn plots in the same figure.\n",
    "# We just need to add the ax = axes[int] parameter\n",
    "\n",
    "# Lets make a scatter plot of MPG by weight and then the distributions\n",
    "# for MPG and Weight\n",
    "\n",
    "fig, axes = plt.subplots(nrows=1, ncols=3, figsize=(12,4))\n",
    "\n",
    "sns.scatterplot(x = \"MPG\",\n",
    "                y = 'Weight',\n",
    "                data = cars,\n",
    "                ax = axes[0])\n",
    "axes[0].set_title(\"MPG by Weight\")\n",
    "\n",
    "\n",
    "sns.histplot(x = \"Weight\", \n",
    "             data = cars,\n",
    "             ax = axes[1])\n",
    "axes[1].set_title(\"Weight distribution\")\n",
    "\n",
    "sns.histplot(x = \"MPG\", \n",
    "             data = cars,\n",
    "             ax = axes[2])\n",
    "axes[2].set_title(\"MPG distribution\")"
   ]
  },
  {
   "cell_type": "markdown",
   "metadata": {},
   "source": [
    "<a id='gridspec_matplotlib'></a>"
   ]
  },
  {
   "cell_type": "markdown",
   "metadata": {},
   "source": [
    "<div style=\"padding: 5px; padding-left: 10px; background:#e6e6e6\">\n",
    "\n",
    "<h3>gridspec: matplotlib</h3>\n",
    "\n",
    "**[.subplots]( https://matplotlib.org/stable/api/_as_gen/matplotlib.pyplot.subplots.html)**: creates a figure and a set of subplots. This utility wrapper makes it convenient to create common layouts of subplots, including the enclosing figure object, in a single call.\n",
    "\n",
    "**General code example:** \n",
    "\n",
    "```\n",
    "fig = plt.figure()\n",
    "gridspec_fig = fig.add_gridspec(nrows=2, ncols=2)\n",
    "ax0 = fig.add_subplot(gs[0, 0]) # Top left corner\n",
    "ax1 = fig.add_subplot(gs[0, 1]) # Top right corner\n",
    "ax2 = fig.add_subplot(gs[1, :]) # Bottom, span entire width\n",
    "    \n",
    "ax0.plot()\n",
    "ax1.plot()\n",
    "ax2.plot()\n",
    "```\n",
    "    \n",
    "**helpful parameters:**\n",
    "* <code> sharex/sharey = bool </code> forces plots to display the same range along the x-axis  or y-axis depending upon which parameter you call. Default = False"
   ]
  },
  {
   "cell_type": "code",
   "execution_count": null,
   "metadata": {},
   "outputs": [],
   "source": [
    "# Because Seaborn is built on Matplotlib we can also put multiple\n",
    "# seaborn plots in the same figure.\n",
    "# We just need to add the ax = axes[int] parameter\n",
    "\n",
    "# Lets make a scatter plot of MPG by weight and then the distributions\n",
    "# for MPG and Weight\n",
    "\n",
    "us_cars = cars.loc[cars[\"Origin\"]==\"US\"]\n",
    "\n",
    "fig = plt.figure()\n",
    "gs= fig.add_gridspec(nrows=2, ncols=2)\n",
    "ax0 = fig.add_subplot(gs[0, 0]) # Top left corner\n",
    "ax1 = fig.add_subplot(gs[0, 1]) # Top right corner\n",
    "ax2 = fig.add_subplot(gs[1, :]) # Bottom, span entire width\n",
    "\n",
    "sns.scatterplot(x = \"MPG\",\n",
    "                y = 'Weight',\n",
    "                data = us_cars,\n",
    "                ax = ax0)\n",
    "axes[0].set_title(\"MPG by Weight\")\n",
    "\n",
    "\n",
    "sns.histplot(x = \"Weight\", \n",
    "             data = us_cars,\n",
    "             ax = ax1)\n",
    "axes[1].set_title(\"Weight distribution\")\n",
    "\n",
    "\n",
    "sns.lineplot(x=\"Year\", \n",
    "             y=\"MPG\",\n",
    "             data = us_cars,\n",
    "             ax = ax2)"
   ]
  },
  {
   "cell_type": "markdown",
   "metadata": {},
   "source": [
    "<a id='table_lens'></a>"
   ]
  },
  {
   "cell_type": "markdown",
   "metadata": {},
   "source": [
    "<a id='heat'></a>"
   ]
  },
  {
   "cell_type": "markdown",
   "metadata": {},
   "source": []
  },
  {
   "cell_type": "markdown",
   "metadata": {},
   "source": []
  },
  {
   "cell_type": "markdown",
   "metadata": {},
   "source": []
  },
  {
   "cell_type": "code",
   "execution_count": null,
   "metadata": {},
   "outputs": [],
   "source": []
  },
  {
   "cell_type": "markdown",
   "metadata": {},
   "source": [
    "<a id='heatmap_seaborn'></a>"
   ]
  }
 ],
 "metadata": {
  "kernelspec": {
   "display_name": "Python 3",
   "language": "python",
   "name": "python3"
  },
  "language_info": {
   "codemirror_mode": {
    "name": "ipython",
    "version": 3
   },
   "file_extension": ".py",
   "mimetype": "text/x-python",
   "name": "python",
   "nbconvert_exporter": "python",
   "pygments_lexer": "ipython3",
   "version": "3.8.3"
  }
 },
 "nbformat": 4,
 "nbformat_minor": 4
}
